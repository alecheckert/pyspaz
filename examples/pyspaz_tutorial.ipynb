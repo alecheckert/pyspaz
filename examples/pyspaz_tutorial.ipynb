{
 "cells": [
  {
   "cell_type": "markdown",
   "metadata": {},
   "source": [
    "# `pyspaz` tutorial: using `pyspaz` for localization and tracking analysis\n",
    "\n",
    "The goal of this tutorial is to demonstrate some of the capabilities of the `pyspaz` module. We'll use a sample movie that can be accessed at the Google Drive folder\n",
    "\n",
    "<Google Drive folder here>\n",
    "    \n",
    "The tutorial is organized into the following sections:\n",
    "\n",
    "1. Optimizing detection parameters "
   ]
  },
  {
   "cell_type": "code",
   "execution_count": 6,
   "metadata": {},
   "outputs": [],
   "source": [
    "# Main pyspaz modules\n",
    "import pyspaz\n",
    "from pyspaz import visualize\n",
    "from pyspaz import spazio\n",
    "from pyspaz import localize\n",
    "from pyspaz import track\n",
    "\n",
    "# Reload stuff, for improvements\n",
    "from importlib import reload\n",
    "reload(pyspaz.visualize)\n",
    "reload(pyspaz.localize)\n",
    "reload(pyspaz.spazio)\n",
    "reload(pyspaz.track)\n",
    "\n",
    "# Numerical stuff\n",
    "import numpy as np\n",
    "\n",
    "# Dataframes, for dealing with localizations\n",
    "import pandas as pd\n",
    "\n",
    "# I/O\n",
    "import os\n",
    "import sys\n",
    "\n",
    "# Target file\n",
    "image_filename = 'strobe_561nm-1100mW-aotf-100_405nm-aotf-2_region_4.tif'\n",
    "\n",
    "# In order to avoid dealing with the entire file,\n",
    "# we'll just run analysis on frames 400 through 1000\n",
    "start_frame = 400\n",
    "stop_frame = 1000"
   ]
  },
  {
   "cell_type": "markdown",
   "metadata": {},
   "source": [
    "## Optimizing detection parameters\n",
    "\n",
    "Localization works in two steps:\n",
    "\n",
    "1. \"Detection\": finding spots to be used for subsequent subpixel localization\n",
    "2. \"Localization\": fitting spots to subpixel resolution\n",
    "\n",
    "Of the two, the detection step is critical to optimize for each dataset, as it will influence all subsequent localization and tracking steps. These settings are passed to the `pyspaz.localize` functions. To decide on these parameters for a given dataset, `pyspaz.visualize` includes a little interactive widget where the user can test out different detection parameters."
   ]
  },
  {
   "cell_type": "code",
   "execution_count": 7,
   "metadata": {},
   "outputs": [
    {
     "data": {
      "application/vnd.jupyter.widget-view+json": {
       "model_id": "36dd6fac49ef487fb13ad22e796f0336",
       "version_major": 2,
       "version_minor": 0
      },
      "text/plain": [
       "interactive(children=(IntSlider(value=0, continuous_update=False, description='frame_idx', max=601), FloatSlid…"
      ]
     },
     "metadata": {},
     "output_type": "display_data"
    }
   ],
   "source": [
    "pyspaz.visualize.optimize_detection_interactive(\n",
    "    image_filename,\n",
    "    offset_by_half = False,\n",
    "    vmax_mod = 0.5,\n",
    ")"
   ]
  },
  {
   "cell_type": "code",
   "execution_count": 9,
   "metadata": {},
   "outputs": [
    {
     "data": {
      "application/vnd.jupyter.widget-view+json": {
       "model_id": "237c821d82854c1dadf30f62450d1cd9",
       "version_major": 2,
       "version_minor": 0
      },
      "text/plain": [
       "interactive(children=(IntSlider(value=0, continuous_update=False, description='frame_idx', max=600), IntSlider…"
      ]
     },
     "metadata": {},
     "output_type": "display_data"
    }
   ],
   "source": [
    "pyspaz.visualize.optimize_detection_log_interactive(\n",
    "    image_filename,\n",
    ")"
   ]
  },
  {
   "cell_type": "code",
   "execution_count": null,
   "metadata": {},
   "outputs": [],
   "source": []
  }
 ],
 "metadata": {
  "kernelspec": {
   "display_name": "Python 3",
   "language": "python",
   "name": "python3"
  },
  "language_info": {
   "codemirror_mode": {
    "name": "ipython",
    "version": 3
   },
   "file_extension": ".py",
   "mimetype": "text/x-python",
   "name": "python",
   "nbconvert_exporter": "python",
   "pygments_lexer": "ipython3",
   "version": "3.6.5"
  }
 },
 "nbformat": 4,
 "nbformat_minor": 2
}
